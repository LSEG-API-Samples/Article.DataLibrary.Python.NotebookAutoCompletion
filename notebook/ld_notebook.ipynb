{
 "cells": [
  {
   "cell_type": "code",
   "execution_count": 21,
   "id": "8755bffb-a21d-43cd-b337-365060e91920",
   "metadata": {},
   "outputs": [],
   "source": [
    "#This cell must always on the top of the Notebook!\n",
    "%config Completer.use_jedi = False"
   ]
  },
  {
   "cell_type": "markdown",
   "id": "1b30837c-07b6-4a71-aa0a-ae7d47e954c4",
   "metadata": {},
   "source": [
    "# How to enable Autocompletion in Jupyter Notebook application\n",
    "\n",
    "## Overview\n",
    "\n",
    "With the rise of Data Scientists, Financial coders, Casual Developers, or Traders (aka Citizen Developers), and the rapid growth of [Jupyter](https://jupyter.org/) application, [Jupyter Notebook](https://jupyter-notebook.readthedocs.io/en/stable/) and its next-generation, [JupyterLab](https://jupyterlab.readthedocs.io/en/latest/getting_started/overview.html) is a de-facto tool of those Citizen Developers. Thanks to the [IPython kernel](https://ipython.org/), Notebook provides a powerful interactive shell, interactive data visualization, embedded documentation, and supports various programming languages such as Python (native supported), [R](https://developers.refinitiv.com/en/article-catalog/article/setup-jupyter-notebook-r), [Julia](https://datatofish.com/add-julia-to-jupyter/), and much more. \n",
    "\n",
    "The Notebook application is easier to use when comparing to other traditional IDEs (Integrated development environment) or Editors. Citizen Developers do not need much programming language or technology experience to use the Notebook application. However, The Jupyter Notebook also provides Coding and [*Magic*](https://ipython.readthedocs.io/en/stable/interactive/magics.html) features which make Notebook a friendly development environment for both Citizen and Professional Developers.\n",
    "\n",
    "This article demonstrates how to enable Python/Jupyter application coding autocompletion feature. The demo application uses content from the [Data Library for Python](https://developers.lseg.com/en/api-catalog/lseg-data-platform/lseg-data-library-for-python) as an example library."
   ]
  },
  {
   "cell_type": "code",
   "execution_count": 25,
   "id": "10c890a4-8dea-4f8d-ab35-dd7072864076",
   "metadata": {},
   "outputs": [],
   "source": [
    "# import Data Library version 2 (LSEG Data Library)\n",
    "import lseg.data as ld\n",
    "import pandas as pd\n",
    "pd.set_option('future.no_silent_downcasting', True)"
   ]
  },
  {
   "cell_type": "markdown",
   "id": "1ec7c0a2-729a-411b-84e4-534a32db25eb",
   "metadata": {},
   "source": [
    "## <a id=\"data_lib\"></a>Introduction to the Data Library for Python\n",
    "\n",
    "The [Data Library for Python](https://developers.lseg.com/en/api-catalog/lseg-data-platform/lseg-data-library-for-python) provides a set of ease-of-use interfaces offering coders uniform access to the breadth and depth of financial data and services available on the Workspace, RDP, and Real-Time Platforms. The API is designed to provide consistent access through multiple access channels and target both Professional Developers and Financial Coders. Developers can choose to access content from the desktop, through their deployed streaming services, or directly to the cloud. With the Data Library, the same Python code can be used to retrieve data regardless of which access point you choose to connect to the platform.\n",
    "\n",
    "![Figure-1](images/datalib_image.png \"Data Library Diagram\") \n",
    "\n",
    "The Data Library are available in the following programming languages:\n",
    "\n",
    "- [Python](https://developers.lseg.com/en/api-catalog/lseg-data-platform/lseg-data-library-for-python)\n",
    "- [.NET](https://developers.lseg.com/en/api-catalog/lseg-data-platform/lseg-data-library-for-net)\n",
    "- [TypeScript](https://developers.lseg.com/en/api-catalog/refinitiv-data-platform/refinitiv-data-library-for-typescript)\n",
    "\n",
    "For more deep detail regarding the Data Library for Python, please refer to the following articles and tutorials:\n",
    "\n",
    "- [Quickstart](https://developers.lseg.com/en/api-catalog/lseg-data-platform/lseg-data-library-for-python/quick-start).\n",
    "- [Documentation](https://developers.lseg.com/en/api-catalog/lseg-data-platform/lseg-data-library-for-python/documentation).\n",
    "- [Tutorials](https://developers.lseg.com/en/api-catalog/lseg-data-platform/lseg-data-library-for-python/tutorials).\n",
    "- [GitHub](https://github.com/LSEG-API-Samples/Example.DataLibrary.Python).\n",
    "\n",
    "### Disclaimer\n",
    "\n",
    "This article is based on Data Library Python versions **2.1.1**"
   ]
  },
  {
   "cell_type": "markdown",
   "id": "5c6fb908-69fd-4398-9407-018767248570",
   "metadata": {},
   "source": [
    "The next step is to open a session defined in a **lseg-data.config.json** configuration file in the same location as notebook file.\n",
    "\n",
    "You should save a json file **lseg-data.config.json** having your Workspace App Key as follows:\n",
    "\n",
    "```json\n",
    "{\n",
    "    \"logs\": {\n",
    "        \"level\": \"debug\",\n",
    "        \"transports\": {\n",
    "            \"console\": {\n",
    "                \"enabled\": false\n",
    "            },\n",
    "            \"file\": {\n",
    "                \"enabled\": false,\n",
    "                \"name\": \"lseg-data-lib.log\"\n",
    "            }\n",
    "        }\n",
    "    },\n",
    "    \"sessions\": {\n",
    "        \"default\": \"desktop.workspace\",\n",
    "        \"desktop\": {\n",
    "            \"workspace\": {\n",
    "                \"app-key\": \"YOUR APP KEY GOES HERE!\"\n",
    "            }\n",
    "        }\n",
    "    }\n",
    "}\n",
    "```\n",
    "This file should be readily available (e.g. in the current working directory) for the next steps."
   ]
  },
  {
   "cell_type": "markdown",
   "id": "14c07732-4f13-4cd2-af0f-739fcb7bbae3",
   "metadata": {},
   "source": [
    "## Python built-in help\n",
    "\n",
    "The Python programming language comes with a built-in [help() function](https://docs.python.org/3/library/functions.html#help) to display documentation of modules, functions, classes, objects, etc with the following syntax:\n",
    "\n",
    "```\n",
    "help([object])\n",
    "```\n",
    "\n",
    "However, the result is not always easy to read as the following examples:\n",
    "\n",
    "![Figure-1](images/help_ld.png \"Python help on Data Library object\") \n",
    "\n",
    "or\n",
    "\n",
    "![Figure-2](images/help_ld2.png \"Python help on Data Library open_session function\") "
   ]
  },
  {
   "cell_type": "code",
   "execution_count": 26,
   "id": "4eb30796-08c6-4f3f-a72d-30f6fde10935",
   "metadata": {},
   "outputs": [
    {
     "name": "stdout",
     "output_type": "stream",
     "text": [
      "Help on function open_session in module lseg.data._access_layer.session:\n",
      "\n",
      "open_session(name: Optional[str] = None, app_key: Optional[str] = None, config_name: Optional[str] = None) -> 'Session'\n",
      "    Opens and returns a session.\n",
      "    \n",
      "    Parameters\n",
      "    ----------\n",
      "    name: str, optional\n",
      "        Session name from the config file.\n",
      "    app_key: str, optional\n",
      "        The application key.\n",
      "    config_name: str, optional\n",
      "        The config name. If provided, overrides default config.\n",
      "    \n",
      "    Returns\n",
      "    -------\n",
      "    Session\n",
      "\n"
     ]
    }
   ],
   "source": [
    "help(ld.open_session)"
   ]
  },
  {
   "cell_type": "markdown",
   "id": "8c6b0cfd-04c0-402d-a656-333d38406522",
   "metadata": {},
   "source": [
    "\n",
    "## IPython Autocompletion\n",
    "\n",
    "Fortunately, the JupyterLab and Jupyter Notebook comes with the [IPython magic command](https://ipython.readthedocs.io/en/stable/interactive/magics.html#magic-config) ```%config Completer.use_jedi = False``` that enables the library/function autocompletion (like *IntelliSense* in Microsoft development environment term).\n",
    "\n",
    "You need to set the magic command ```%config Completer.use_jedi = False``` at the **top cell** of the Notebook application (like this Notebook). \n",
    "\n",
    "![Figure-3](images/ipython_magic_command.png \"IPython Magic command location\") \n",
    "\n",
    "Once you have enabled and run the ```%config Completer.use_jedi = False``` magic command, you can trigger the code autocompletion by pressing the ```tab``` button after the ```\".\"``` character.\n",
    "\n",
    "![Figure-4](images/ipython_autocomplete_1.png \"Data Library with IPython Autocompletion\") \n",
    "\n",
    "Let's try it yourself, please select the space just after the ```\".\"``` character below and hit the ```tab``` button."
   ]
  },
  {
   "cell_type": "code",
   "execution_count": null,
   "id": "9a52c3a5-4c85-4d2b-94d6-3d5ca9342a13",
   "metadata": {
    "scrolled": true
   },
   "outputs": [],
   "source": [
    "ld."
   ]
  },
  {
   "cell_type": "markdown",
   "id": "709235b8-25d8-4af7-b9d2-ac1a6b9777e0",
   "metadata": {},
   "source": [
    "The Data Library lets application consumes data from the following platforms\n",
    "\n",
    "- DesktopSession (LSEG Workspace)\n",
    "- PlatformSession (Delivery Platform and Real-Time Optimized)\n",
    "- DeployedPlatformSession (deployed Real-Time/ADS)\n",
    "\n",
    "This Jupyter Notebook is focusing on the *DesktopSession* only."
   ]
  },
  {
   "cell_type": "code",
   "execution_count": 28,
   "id": "cb904128-ef64-4b93-8ac5-9fe455955742",
   "metadata": {},
   "outputs": [
    {
     "data": {
      "text/plain": [
       "<lseg.data.session.Definition object at 0x2381b2eda50 {name='workspace'}>"
      ]
     },
     "execution_count": 28,
     "metadata": {},
     "output_type": "execute_result"
    }
   ],
   "source": [
    "ld.open_session(config_name='./lseg-data.config.json')\n",
    "#ld.open_session(config_name='./lseg-data.devrel.config.json')"
   ]
  },
  {
   "cell_type": "markdown",
   "id": "b987d3e0-d513-4d74-b382-8be2b168c4c7",
   "metadata": {},
   "source": [
    "This IPython command also enables the ```\"shift + tab\"``` buttons to show the function help and tooltip information.\n",
    "\n",
    "![Figure-5](images/ipython_autocomplete_2.png \"Data Library with IPython Autocompletion\") \n",
    "\n",
    "You can also use \"?\" at the end of the function (without ```()```) to display documentation for objects and methods in the IPython environment. I am demonstrating with use the Library *Access Layer* to request time-series data as a [Pandas DataFrame](https://pandas.pydata.org/pandas-docs/stable/reference/api/pandas.DataFrame.html) object. We use \"?\" magic to pull up documentation of the method."
   ]
  },
  {
   "cell_type": "code",
   "execution_count": 29,
   "id": "d00667db-9885-47ed-b15e-0a3c51220204",
   "metadata": {},
   "outputs": [
    {
     "data": {
      "text/plain": [
       "\u001b[31mSignature:\u001b[39m\n",
       "ld.get_history(\n",
       "    universe: Union[str, Iterable[str]],\n",
       "    fields: Union[str, Iterable[str], NoneType] = \u001b[38;5;28;01mNone\u001b[39;00m,\n",
       "    interval: Optional[str] = \u001b[38;5;28;01mNone\u001b[39;00m,\n",
       "    start: \u001b[33m'OptDateTime'\u001b[39m = \u001b[38;5;28;01mNone\u001b[39;00m,\n",
       "    end: \u001b[33m'OptDateTime'\u001b[39m = \u001b[38;5;28;01mNone\u001b[39;00m,\n",
       "    adjustments: Optional[str] = \u001b[38;5;28;01mNone\u001b[39;00m,\n",
       "    count: Optional[int] = \u001b[38;5;28;01mNone\u001b[39;00m,\n",
       "    parameters: Union[str, dict, NoneType] = \u001b[38;5;28;01mNone\u001b[39;00m,\n",
       "    header_type: lseg.data.content._header_type.HeaderType = <HeaderType.TITLE: \u001b[32m2\u001b[39m>,\n",
       ") -> pandas.core.frame.DataFrame\n",
       "\u001b[31mDocstring:\u001b[39m\n",
       "Retrieves the pricing history, as well as Fundamental and Reference data history.\n",
       "\n",
       "Parameters\n",
       "----------\n",
       "universe: str | list\n",
       "    Instruments to request\n",
       "fields: str | list, optional\n",
       "    Fields to request\n",
       "interval: str, optional\n",
       "    Date interval. Supported intervals are:\n",
       "    tick, tas, taq, minute, 1min, 5min, 10min, 30min, 60min, hourly, 1h, daily,\n",
       "    1d, 1D, 7D, 7d, weekly, 1W, monthly, 1M, quarterly, 3M, 6M, yearly, 1Y\n",
       "start: str or date or datetime or timedelta, optional\n",
       "    The start date and timestamp of the requested history\n",
       "end: str or date or datetime or timedelta, optional\n",
       "    The end date and timestamp of the requested history\n",
       "adjustments : str, optional\n",
       "    Tells the system whether to apply or not apply CORAX (Corporate Actions)\n",
       "    events or exchange/manual corrections or price and volume adjustment\n",
       "    according to trade/quote qualifier summarization actions to historical time\n",
       "    series data. Possible values are:\n",
       "    exchangeCorrection, manualCorrection, CCH, CRE, RTS, RPO, unadjusted,\n",
       "    qualifiers\n",
       "count : int, optional\n",
       "    The maximum number of data points returned. Values range: 1 - 10000.\n",
       "    Applies only to pricing fields.\n",
       "parameters: str | dict, optional\n",
       "    Single global parameter key=value or dictionary\n",
       "    of global parameters to request.\n",
       "    Applies only to TR fields.\n",
       "header_type: HeaderType, default HeaderType.TITLE\n",
       "    If HeaderType.TITLE - returns field title as column headers for data\n",
       "    If HeaderType.NAME - returns field name as column headers for data\n",
       "    If HeaderType.NAME_AND_TITLE - returns field name and title as column headers for data\n",
       "\n",
       "Returns\n",
       "-------\n",
       "pandas.DataFrame\n",
       "\n",
       "Examples\n",
       "--------\n",
       ">>> get_history(universe=\"GOOG.O\")\n",
       ">>> get_history(universe=\"GOOG.O\", fields=\"tr.Revenue\", interval=\"1Y\")\n",
       ">>> get_history(\n",
       "...     universe=\"GOOG.O\",\n",
       "...     fields=[\"BID\", \"ASK\", \"tr.Revenue\"],\n",
       "...     interval=\"1Y\",\n",
       "...     start=\"2015-01-01\",\n",
       "...     end=\"2020-10-01\",\n",
       "... )\n",
       "\u001b[31mFile:\u001b[39m      c:\\projects\\code\\article.rdplibrary.python.notebookautocompletion\\ld\\lib\\site-packages\\lseg\\data\\_access_layer\\get_history_func.py\n",
       "\u001b[31mType:\u001b[39m      function"
      ]
     },
     "metadata": {},
     "output_type": "display_data"
    }
   ],
   "source": [
    "ld.get_history?"
   ]
  },
  {
   "cell_type": "code",
   "execution_count": 30,
   "id": "c6526a31-2216-42cc-b00f-0fdc83167b66",
   "metadata": {},
   "outputs": [],
   "source": [
    "# Request Historical Data of Tesla Inc.\n",
    "df_tesla = ld.get_history(universe = 'TSLA.O')"
   ]
  },
  {
   "cell_type": "markdown",
   "id": "c236b2f2-8015-4061-816c-dd358f234ed8",
   "metadata": {},
   "source": [
    "Please note that all IPython helpers and autocompletion magic support all Python libraries in the Notebook environment, not limit to only RDP Libraries.\n",
    "\n",
    "![Figure-6](images/ipython_autocomplete_3.png \"Pandas DataFrame with IPython  Autocompletion\") "
   ]
  },
  {
   "cell_type": "code",
   "execution_count": 31,
   "id": "acd3319e-5c22-42fe-8aa1-b8c09e94af0b",
   "metadata": {},
   "outputs": [
    {
     "data": {
      "text/plain": [
       "\u001b[31mSignature:\u001b[39m df_tesla.head(n: \u001b[33m'int'\u001b[39m = \u001b[32m5\u001b[39m) -> \u001b[33m'Self'\u001b[39m\n",
       "\u001b[31mDocstring:\u001b[39m\n",
       "Return the first `n` rows.\n",
       "\n",
       "This function returns the first `n` rows for the object based\n",
       "on position. It is useful for quickly testing if your object\n",
       "has the right type of data in it.\n",
       "\n",
       "For negative values of `n`, this function returns all rows except\n",
       "the last `|n|` rows, equivalent to ``df[:n]``.\n",
       "\n",
       "If n is larger than the number of rows, this function returns all rows.\n",
       "\n",
       "Parameters\n",
       "----------\n",
       "n : int, default 5\n",
       "    Number of rows to select.\n",
       "\n",
       "Returns\n",
       "-------\n",
       "same type as caller\n",
       "    The first `n` rows of the caller object.\n",
       "\n",
       "See Also\n",
       "--------\n",
       "DataFrame.tail: Returns the last `n` rows.\n",
       "\n",
       "Examples\n",
       "--------\n",
       ">>> df = pd.DataFrame({'animal': ['alligator', 'bee', 'falcon', 'lion',\n",
       "...                    'monkey', 'parrot', 'shark', 'whale', 'zebra']})\n",
       ">>> df\n",
       "      animal\n",
       "0  alligator\n",
       "1        bee\n",
       "2     falcon\n",
       "3       lion\n",
       "4     monkey\n",
       "5     parrot\n",
       "6      shark\n",
       "7      whale\n",
       "8      zebra\n",
       "\n",
       "Viewing the first 5 lines\n",
       "\n",
       ">>> df.head()\n",
       "      animal\n",
       "0  alligator\n",
       "1        bee\n",
       "2     falcon\n",
       "3       lion\n",
       "4     monkey\n",
       "\n",
       "Viewing the first `n` lines (three in this case)\n",
       "\n",
       ">>> df.head(3)\n",
       "      animal\n",
       "0  alligator\n",
       "1        bee\n",
       "2     falcon\n",
       "\n",
       "For negative values of `n`\n",
       "\n",
       ">>> df.head(-3)\n",
       "      animal\n",
       "0  alligator\n",
       "1        bee\n",
       "2     falcon\n",
       "3       lion\n",
       "4     monkey\n",
       "5     parrot\n",
       "\u001b[31mFile:\u001b[39m      c:\\projects\\code\\article.rdplibrary.python.notebookautocompletion\\ld\\lib\\site-packages\\pandas\\core\\generic.py\n",
       "\u001b[31mType:\u001b[39m      method"
      ]
     },
     "metadata": {},
     "output_type": "display_data"
    }
   ],
   "source": [
    "df_tesla.head?"
   ]
  },
  {
   "cell_type": "code",
   "execution_count": 32,
   "id": "a9ce2248-2a26-4228-a989-ded44bd04b12",
   "metadata": {},
   "outputs": [
    {
     "data": {
      "text/html": [
       "<div>\n",
       "<style scoped>\n",
       "    .dataframe tbody tr th:only-of-type {\n",
       "        vertical-align: middle;\n",
       "    }\n",
       "\n",
       "    .dataframe tbody tr th {\n",
       "        vertical-align: top;\n",
       "    }\n",
       "\n",
       "    .dataframe thead th {\n",
       "        text-align: right;\n",
       "    }\n",
       "</style>\n",
       "<table border=\"1\" class=\"dataframe\">\n",
       "  <thead>\n",
       "    <tr style=\"text-align: right;\">\n",
       "      <th>TSLA.O</th>\n",
       "      <th>TRDPRC_1</th>\n",
       "      <th>HIGH_1</th>\n",
       "      <th>LOW_1</th>\n",
       "      <th>ACVOL_UNS</th>\n",
       "      <th>OPEN_PRC</th>\n",
       "      <th>BID</th>\n",
       "      <th>ASK</th>\n",
       "      <th>TRNOVR_UNS</th>\n",
       "      <th>VWAP</th>\n",
       "      <th>BLKCOUNT</th>\n",
       "      <th>BLKVOLUM</th>\n",
       "      <th>NUM_MOVES</th>\n",
       "      <th>TRD_STATUS</th>\n",
       "      <th>SALTIM</th>\n",
       "      <th>NAVALUE</th>\n",
       "      <th>VWAP_VOL</th>\n",
       "    </tr>\n",
       "    <tr>\n",
       "      <th>Date</th>\n",
       "      <th></th>\n",
       "      <th></th>\n",
       "      <th></th>\n",
       "      <th></th>\n",
       "      <th></th>\n",
       "      <th></th>\n",
       "      <th></th>\n",
       "      <th></th>\n",
       "      <th></th>\n",
       "      <th></th>\n",
       "      <th></th>\n",
       "      <th></th>\n",
       "      <th></th>\n",
       "      <th></th>\n",
       "      <th></th>\n",
       "      <th></th>\n",
       "    </tr>\n",
       "  </thead>\n",
       "  <tbody>\n",
       "    <tr>\n",
       "      <th>2025-03-25</th>\n",
       "      <td>288.14</td>\n",
       "      <td>288.2</td>\n",
       "      <td>271.28</td>\n",
       "      <td>150361538</td>\n",
       "      <td>283.6</td>\n",
       "      <td>288.15</td>\n",
       "      <td>288.17</td>\n",
       "      <td>42048743941</td>\n",
       "      <td>279.1575</td>\n",
       "      <td>98</td>\n",
       "      <td>6896630</td>\n",
       "      <td>1953630</td>\n",
       "      <td>1</td>\n",
       "      <td>72900</td>\n",
       "      <td>&lt;NA&gt;</td>\n",
       "      <td>134759509</td>\n",
       "    </tr>\n",
       "    <tr>\n",
       "      <th>2025-03-26</th>\n",
       "      <td>272.06</td>\n",
       "      <td>284.9</td>\n",
       "      <td>266.51</td>\n",
       "      <td>156254441</td>\n",
       "      <td>282.66</td>\n",
       "      <td>271.95</td>\n",
       "      <td>271.99</td>\n",
       "      <td>42909123207</td>\n",
       "      <td>274.4643</td>\n",
       "      <td>118</td>\n",
       "      <td>12601324</td>\n",
       "      <td>1896601</td>\n",
       "      <td>1</td>\n",
       "      <td>72000</td>\n",
       "      <td>&lt;NA&gt;</td>\n",
       "      <td>140118129</td>\n",
       "    </tr>\n",
       "    <tr>\n",
       "      <th>2025-03-27</th>\n",
       "      <td>273.13</td>\n",
       "      <td>291.85</td>\n",
       "      <td>271.8216</td>\n",
       "      <td>162572146</td>\n",
       "      <td>272.48</td>\n",
       "      <td>273.2</td>\n",
       "      <td>273.24</td>\n",
       "      <td>45483018370</td>\n",
       "      <td>280.3208</td>\n",
       "      <td>132</td>\n",
       "      <td>9838045</td>\n",
       "      <td>1941634</td>\n",
       "      <td>1</td>\n",
       "      <td>72000</td>\n",
       "      <td>&lt;NA&gt;</td>\n",
       "      <td>150235110</td>\n",
       "    </tr>\n",
       "  </tbody>\n",
       "</table>\n",
       "</div>"
      ],
      "text/plain": [
       "TSLA.O      TRDPRC_1  HIGH_1     LOW_1  ACVOL_UNS  OPEN_PRC     BID     ASK   TRNOVR_UNS      VWAP  BLKCOUNT  BLKVOLUM  NUM_MOVES  TRD_STATUS  SALTIM  NAVALUE   VWAP_VOL\n",
       "Date                                                                                                                                                                     \n",
       "2025-03-25    288.14   288.2    271.28  150361538     283.6  288.15  288.17  42048743941  279.1575        98   6896630    1953630           1   72900     <NA>  134759509\n",
       "2025-03-26    272.06   284.9    266.51  156254441    282.66  271.95  271.99  42909123207  274.4643       118  12601324    1896601           1   72000     <NA>  140118129\n",
       "2025-03-27    273.13  291.85  271.8216  162572146    272.48   273.2  273.24  45483018370  280.3208       132   9838045    1941634           1   72000     <NA>  150235110"
      ]
     },
     "execution_count": 32,
     "metadata": {},
     "output_type": "execute_result"
    }
   ],
   "source": [
    "df_tesla.head(3)"
   ]
  },
  {
   "cell_type": "markdown",
   "id": "4ab7afcd-6f8d-460b-8a4f-a0148326df41",
   "metadata": {},
   "source": [
    "### Close the Session"
   ]
  },
  {
   "cell_type": "code",
   "execution_count": 33,
   "id": "19722185-35ea-4186-bc74-4e5e80d8bf77",
   "metadata": {},
   "outputs": [],
   "source": [
    "# -- Close Session, just calls close_session() function\n",
    "ld.close_session()"
   ]
  },
  {
   "cell_type": "markdown",
   "id": "ead5548d-3fa6-48a9-98f4-fb3266a5d8e3",
   "metadata": {},
   "source": [
    "## LSEG Workspace CodeBook\n",
    "\n",
    "If you are [LSEG Workspace](https://www.lseg.com/en/data-analytics/products/workspace) user, you can access [*CodeBook*](https://www.lseg.com/en/data-analytics/products/codebook) app, a cloud-hosted Jupyter Notebook development environment for Python scripting from the application. The CodeBook is natively available in Workspace as an app (**no installation required!!**), providing access to LSEG APIs that are already pre-installed on the cloud.\n",
    "\n",
    "One benefit of using the CodeBook app is the environment has already enabled Jupyter Notebook magics for you. You can use all code autocompletion shortcuts (```tab```, ```shift + tab```, and ```?```) without setting any IPython Magic in your Notebook.\n",
    "\n",
    "![Figure-8](images/ipython_autocomple_codebook.png \"CodeBook Autocompletion\") "
   ]
  },
  {
   "cell_type": "markdown",
   "id": "50f8ff82-69ee-4486-ac09-140157ccc2e5",
   "metadata": {},
   "source": [
    "## Conclusion and Next Step\n",
    "\n",
    "Some Professional Developers may think Jupyter Notebook (and JupyterLab) is just a learning tool for Casual Developers like Data Scientists. However, the tool provides enough coding/development features for a wide range of Developers. The IPython Code Autocompletion feature (and other Magics) helps developers implement the code logic and navigate through the libraries/APIs in the same experience as the traditional IDEs. \n",
    "\n",
    "There is some new development project that tries to merge the benefits/features of the traditional IDEs and Jupyter Notebook like [Netflix's Polynote](https://polynote.org/). While the JupyterLab also keeps evolving to make a better development environment and easier to use.\n",
    "\n",
    "At the same time, the [Data Library for Python](https://developers.lseg.com/en/api-catalog/lseg-data-platform/lseg-data-library-for-python) lets developers rapidly access LSEG content from various platforms with a few lines of code that easy to understand and maintain. Developers can focus on implement the business logic or analysis data without worry about the connection, authentication detail with the Platforms.\n",
    "\n",
    "## References\n",
    "\n",
    "You can find more details regarding the Data Library and Jupyter Notebook from the following resources:\n",
    "\n",
    "- [LSEG Data Library for Python](https://developers.lseg.com/en/api-catalog/lseg-data-platform/lseg-data-library-for-python) on the [LSEG Developer Community](https://developers.lseg.com/) website.\n",
    "- [Data Library for Python - Reference Guide](https://developers.lseg.com/en/api-catalog/lseg-data-platform/lseg-data-library-for-python/documentation#reference-guide)\n",
    "- [The Data Library for Python  - Quick Reference Guide (Access layer)](https://developers.lseg.com/en/article-catalog/article/the-data-library-for-python-quick-reference-guide-access-layer) article.\n",
    "- [Essential Guide to the Data Libraries - Generations of Python library (EDAPI, RDP, RD, LD)](https://developers.lseg.com/en/article-catalog/article/essential-guide-to-the-data-libraries) article.\n",
    "- [Data Library for Python Examples on GitHub](https://github.com/LSEG-API-Samples/Example.DataLibrary.Python) repository.\n",
    "- [Jupyter Project Official page](https://jupyter.org/).\n",
    "- [Jupyter Notebook Shortcuts](https://towardsdatascience.com/jypyter-notebook-shortcuts-bf0101a98330).\n",
    "- [IPython Built-in magic commands](https://ipython.readthedocs.io/en/stable/interactive/magics.html).\n",
    "- [Jupyter Notebook: An Introduction](https://realpython.com/jupyter-notebook-introduction/).\n",
    "- [Jupyter Lab: Evolution of the Jupyter Notebook](https://towardsdatascience.com/jupyter-lab-evolution-of-the-jupyter-notebook-5297cacde6b).\n",
    "- [10 Compelling Reasons you Should Use JupyterLab for Data Science Coding](https://www.analyticsvidhya.com/blog/2020/06/10-powerful-reasons-jupyterlab-data-science/).\n",
    "\n",
    "For any questions related to this article or Data Library, please use the Developers Community [Q&A Forum](https://community.developers.refinitiv.com)."
   ]
  },
  {
   "cell_type": "code",
   "execution_count": null,
   "id": "7016fd88-679e-42e8-a920-211d3ca1391e",
   "metadata": {},
   "outputs": [],
   "source": []
  }
 ],
 "metadata": {
  "kernelspec": {
   "display_name": "Python 3 (ipykernel)",
   "language": "python",
   "name": "python3"
  },
  "language_info": {
   "codemirror_mode": {
    "name": "ipython",
    "version": 3
   },
   "file_extension": ".py",
   "mimetype": "text/x-python",
   "name": "python",
   "nbconvert_exporter": "python",
   "pygments_lexer": "ipython3",
   "version": "3.11.5"
  }
 },
 "nbformat": 4,
 "nbformat_minor": 5
}
