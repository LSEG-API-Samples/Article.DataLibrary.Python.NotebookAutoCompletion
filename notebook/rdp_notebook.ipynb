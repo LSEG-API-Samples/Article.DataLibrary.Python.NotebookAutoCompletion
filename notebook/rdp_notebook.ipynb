{
 "cells": [
  {
   "cell_type": "code",
   "execution_count": 1,
   "id": "fiscal-forge",
   "metadata": {},
   "outputs": [],
   "source": [
    "#This cell must always on the top of the Notebook!\n",
    "%config Completer.use_jedi = False"
   ]
  },
  {
   "cell_type": "markdown",
   "id": "brazilian-brand",
   "metadata": {},
   "source": [
    "# How to turn on Jupyter Notebook Coding Autocompletion Feature\n",
    "\n",
    "## Overview\n",
    "\n",
    "With the rise of Data Scientists, Financial coders, Casual Developers or Traders (aka Citizen Developers), and the rapid growth of [Jupyter](https://jupyter.org/) application, [Jupyter Notebook](https://jupyter-notebook.readthedocs.io/en/stable/) and its next-generation, [JupyterLab](https://jupyterlab.readthedocs.io/en/latest/getting_started/overview.html) is a de-facto tool of those Citizen Developers. Thanks to [IPython kernal](https://ipython.org/), Notebook provides a powerful interactive shell, interactive data visualization, embedded documentation, and support various programming languages such as Python (native supported), [R](https://developers.refinitiv.com/en/article-catalog/article/setup-jupyter-notebook-r), [Julia](https://datatofish.com/add-julia-to-jupyter/) and much more. \n",
    "\n",
    "The Notebook application is easier to use when comparing to other traditional IDEs (Integrated development environment) or Editors. Citizen Developers do not need much programming language or technology experience to use the Notebook application. However, The Jupyter Notebook also provides Coding and [*Magic*](https://ipython.readthedocs.io/en/stable/interactive/magics.html) features which make Notebook a friendly development environment for both Citizen and Professional Developers.\n",
    "\n",
    "This article demonstrates how to enable Python/Jupyter application coding autocompletion feature. The demo application uses content from [Refinitiv Data Platform (RDP)](https://developers.refinitiv.com/refinitiv-data-platform/refinitiv-data-platform-apis) as an example library."
   ]
  },
  {
   "cell_type": "code",
   "execution_count": 2,
   "id": "everyday-helping",
   "metadata": {},
   "outputs": [],
   "source": [
    "# Import RDP Libraries - Python edition\n",
    "import refinitiv.dataplatform as rdp"
   ]
  },
  {
   "cell_type": "markdown",
   "id": "unusual-statement",
   "metadata": {},
   "source": [
    "## Introduction to Refinitiv Data Platform (RDP) Libraries\n",
    "\n",
    "Refinitiv provides a wide range of contents and data which require multiple technologies, delivery mechanisms, data formats, and the multiple APIs to access each content. The [RDP Libraries](https://developers.refinitiv.com/en/api-catalog/refinitiv-data-platform/refinitiv-data-platform-libraries) are a suite of ease-of-use interfaces providing unified access to streaming and non-streaming data services offered within the [Refinitiv Data Platform (RDP)](https://developers.refinitiv.com/en/api-catalog/refinitiv-data-platform/refinitiv-data-platform-apis). The Libraries simplified how to access data to various delivery modes such as Request-Response, Streaming, Bulk File, and Queues via a single library. \n",
    "\n",
    "Depending on the level of service and data requirements, developers can easily choose how to access data services using the appropriate access channel defined within the library.\n",
    "\n",
    "![Figure-1](images/rdp_libraries_1.png \"RDP Libraries Diagram\") \n",
    "\n",
    "Using the library developers can access content from all 3 of the access points - all from within the same application if required. The RDP Libraries are available in the following programming languages:\n",
    "- Refinitiv Supported Editions: Python and TypeScript/JavaScript (coming in 2020)\n",
    "- Community-based Edition: C#\n",
    "\n",
    "For more deep detail regarding the RDP Libraries, please refer to the following articles and tutorials:\n",
    "- [Developer Article: Discover our Refinitiv Data Platform Library part 1](https://developers.refinitiv.com/article/discover-our-upcoming-refinitiv-data-platform-library-part-1).\n",
    "- [Developer Article: Discover our Refinitiv Data Platform Library part 2](https://developers.refinitiv.com/article/discover-our-upcoming-refinitiv-data-platform-library-part-2-0).\n",
    "- [Refinitiv Data Platform Libraries Document: An Introduction page](https://developers.refinitiv.com/refinitiv-data-platform/refinitiv-data-platform-libraries/docs?content=62446&type=documentation_item).\n",
    "\n",
    "### Disclaimer\n",
    "\n",
    "As this notebook is based on alpha version **1.0.0.a7** of the Python library, the method signatures, data formats, etc. are subject to change."
   ]
  },
  {
   "cell_type": "code",
   "execution_count": 3,
   "id": "continued-installation",
   "metadata": {},
   "outputs": [],
   "source": [
    "# Import other dependencies\n",
    "import configparser as cp\n",
    "import numpy as np\n",
    "import pandas as pd"
   ]
  },
  {
   "cell_type": "markdown",
   "id": "buried-verification",
   "metadata": {},
   "source": [
    "You should save a text file with **filename** `rdp.cfg` having the following contents:\n",
    "\n",
    "    [rdp]\n",
    "    username = YOUR_RDP_EMAIL_USERNAME\n",
    "    password = YOUR_RDP_PASSWORD\n",
    "    app_key = YOUR_RDP_APP_KEY\n",
    "    \n",
    "This file should be readily available (e.g. in the current working directory) for the next steps."
   ]
  },
  {
   "cell_type": "code",
   "execution_count": 4,
   "id": "confident-mention",
   "metadata": {},
   "outputs": [
    {
     "data": {
      "text/plain": [
       "['rdp.cfg']"
      ]
     },
     "execution_count": 4,
     "metadata": {},
     "output_type": "execute_result"
    }
   ],
   "source": [
    "cfg = cp.ConfigParser()\n",
    "cfg.read('rdp.cfg')"
   ]
  },
  {
   "cell_type": "markdown",
   "id": "packed-provider",
   "metadata": {},
   "source": [
    "## Python built-in help\n",
    "\n",
    "The Python programming language comes with a built-in [help() function](https://docs.python.org/3/library/functions.html#help) to display documentation of modules, functions, classes, objects, etc with the following syntax:\n",
    "\n",
    "```\n",
    "help([object])\n",
    "```\n",
    "\n",
    "However, the result is not always easy to read as the following examples:\n",
    "\n",
    "![Figure-1](images/rdp_python_help1.png \"Python help on RDP object\") \n",
    "\n",
    "or\n",
    "\n",
    "![Figure-2](images/rdp_python_help2.png \"Python help on RDP open_platform_session function\") "
   ]
  },
  {
   "cell_type": "code",
   "execution_count": 5,
   "id": "tough-likelihood",
   "metadata": {},
   "outputs": [
    {
     "name": "stdout",
     "output_type": "stream",
     "text": [
      "Help on function get_historical_price_events in module refinitiv.dataplatform.factory.content_factory:\n",
      "\n",
      "get_historical_price_events(universe, eventTypes=None, start=None, end=None, adjustments=[], count=1, fields=[], on_response=None, closure=None)\n",
      "\n"
     ]
    }
   ],
   "source": [
    "# You can try it with yourself by running this cell\n",
    "\n",
    "help(rdp.get_historical_price_events)"
   ]
  },
  {
   "cell_type": "markdown",
   "id": "double-death",
   "metadata": {},
   "source": [
    "For the library that keeps involve like RDP - Library for Python, this is an inconvenitant even the RDP Library itself is easy to use. "
   ]
  },
  {
   "cell_type": "markdown",
   "id": "impaired-basin",
   "metadata": {},
   "source": [
    "\n",
    "## IPython Autocompletion\n",
    "\n",
    "Fortunately, the Jupyther Lab and Jupyter Notebook comes with the [IPython magic command](https://ipython.readthedocs.io/en/stable/interactive/magics.html#magic-config) ```%config Completer.use_jedi = False``` that enables the library/function autocompletion (like *IntelliSense* in Microsoft development environment term).\n",
    "\n",
    "You need to set the magic command ```%config Completer.use_jedi = False``` at the top cell of the Notebook application (like this Notebook). \n",
    "\n",
    "![Figure-3](images/ipython_autocomple_1.gif \"RDP with IPython Autocompletion\") \n",
    "\n",
    "Let's try it yourself, please select the space just after the ```\".\"``` character below and hit the ```tab``` button."
   ]
  },
  {
   "cell_type": "code",
   "execution_count": null,
   "id": "sexual-guess",
   "metadata": {},
   "outputs": [],
   "source": [
    "rdp."
   ]
  },
  {
   "cell_type": "code",
   "execution_count": null,
   "id": "alone-shanghai",
   "metadata": {},
   "outputs": [],
   "source": []
  },
  {
   "cell_type": "markdown",
   "id": "extensive-prompt",
   "metadata": {},
   "source": [
    "The magic ```%config Completer.use_jedi = False``` command also enable \"shift + tab\" buttons to show the function help and tooltip information.\n",
    "\n",
    "![Figure-4](images/ipython_autocomple_2.gif \"RDP with IPython function Autocompletion\") \n",
    "\n",
    "Let's try it yourself, please select the space just after the ```\"()\"``` character below and hit ```shift + tab``` buttons."
   ]
  },
  {
   "cell_type": "code",
   "execution_count": null,
   "id": "capable-politics",
   "metadata": {},
   "outputs": [],
   "source": [
    "rdp.get_historical_price_events()"
   ]
  },
  {
   "cell_type": "markdown",
   "id": "awful-revolution",
   "metadata": {},
   "source": [
    "You can also use \"?\" at the end of function (without ```()```) to display documentation for objects and methods in IPython environment."
   ]
  },
  {
   "cell_type": "code",
   "execution_count": 6,
   "id": "disabled-matrix",
   "metadata": {},
   "outputs": [
    {
     "data": {
      "text/plain": [
       "\u001b[1;31mSignature:\u001b[0m\n",
       "\u001b[0mrdp\u001b[0m\u001b[1;33m.\u001b[0m\u001b[0mopen_platform_session\u001b[0m\u001b[1;33m(\u001b[0m\u001b[1;33m\n",
       "\u001b[0m    \u001b[0mapp_key\u001b[0m\u001b[1;33m,\u001b[0m\u001b[1;33m\n",
       "\u001b[0m    \u001b[0mgrant\u001b[0m\u001b[1;33m=\u001b[0m\u001b[1;32mNone\u001b[0m\u001b[1;33m,\u001b[0m\u001b[1;33m\n",
       "\u001b[0m    \u001b[0mdeployed_platform_host\u001b[0m\u001b[1;33m=\u001b[0m\u001b[1;32mNone\u001b[0m\u001b[1;33m,\u001b[0m\u001b[1;33m\n",
       "\u001b[0m    \u001b[0mdeployed_platform_username\u001b[0m\u001b[1;33m=\u001b[0m\u001b[1;32mNone\u001b[0m\u001b[1;33m,\u001b[0m\u001b[1;33m\n",
       "\u001b[0m\u001b[1;33m)\u001b[0m\u001b[1;33m\u001b[0m\u001b[1;33m\u001b[0m\u001b[0m\n",
       "\u001b[1;31mDocstring:\u001b[0m <no docstring>\n",
       "\u001b[1;31mFile:\u001b[0m      c:\\drive_d\\compilers\\miniconda3\\envs\\rdp_notebook\\lib\\site-packages\\refinitiv\\dataplatform\\factory\\core_factory.py\n",
       "\u001b[1;31mType:\u001b[0m      function\n"
      ]
     },
     "metadata": {},
     "output_type": "display_data"
    }
   ],
   "source": [
    "rdp.open_platform_session?"
   ]
  },
  {
   "cell_type": "markdown",
   "id": "ahead-holmes",
   "metadata": {},
   "source": [
    "Please note that all these autocompletion shortcuts also support the library properties/attributes as well.\n",
    "\n",
    "![Figure-5](images/ipython_autocomple_3.gif \"RDP with IPython attributes Autocompletion\") \n",
    "\n",
    "Let's try it yourself, please select the space just after the ```\".\"``` character below and the ```hit``` tab button."
   ]
  },
  {
   "cell_type": "code",
   "execution_count": null,
   "id": "funded-priest",
   "metadata": {},
   "outputs": [],
   "source": [
    "rdp.Intervals."
   ]
  },
  {
   "cell_type": "markdown",
   "id": "lightweight-riding",
   "metadata": {},
   "source": [
    "The RDP Libraries let application consumes data from the following platforms\n",
    "- DesktopSession (Eikon/Refinitiv Workspace)\n",
    "- PlatformSession (RDP, Refinitiv Real-Time Optimized)\n",
    "- DeployedPlatformSession (deployed Refinitiv Real-Time/ADS)\n",
    "\n",
    "This Jupyter Notebook is focusing on the *PlatformSession* only."
   ]
  },
  {
   "cell_type": "code",
   "execution_count": 7,
   "id": "dominican-annual",
   "metadata": {},
   "outputs": [
    {
     "data": {
      "text/plain": [
       "<State.Open: 3>"
      ]
     },
     "execution_count": 7,
     "metadata": {},
     "output_type": "execute_result"
    }
   ],
   "source": [
    "# Open RDP Platform Session\n",
    "session = rdp.open_platform_session(\n",
    "    cfg['rdp']['app_key'], \n",
    "    rdp.GrantPassword(\n",
    "        username = cfg['rdp']['username'], \n",
    "        password = cfg['rdp']['password']\n",
    "    )\n",
    ")\n",
    "session.get_open_state()"
   ]
  },
  {
   "cell_type": "markdown",
   "id": "unusual-signature",
   "metadata": {},
   "source": [
    "We will demonstrate with use RDP Libraries *Function Layer* to request time-series data as a [Pandas DataFrame](https://pandas.pydata.org/pandas-docs/stable/reference/api/pandas.DataFrame.html) object. We use \"?\" magic to pull up documentation of the method."
   ]
  },
  {
   "cell_type": "code",
   "execution_count": 8,
   "id": "sharp-designation",
   "metadata": {},
   "outputs": [
    {
     "data": {
      "text/plain": [
       "\u001b[1;31mSignature:\u001b[0m\n",
       "\u001b[0mrdp\u001b[0m\u001b[1;33m.\u001b[0m\u001b[0mget_historical_price_events\u001b[0m\u001b[1;33m(\u001b[0m\u001b[1;33m\n",
       "\u001b[0m    \u001b[0muniverse\u001b[0m\u001b[1;33m,\u001b[0m\u001b[1;33m\n",
       "\u001b[0m    \u001b[0meventTypes\u001b[0m\u001b[1;33m=\u001b[0m\u001b[1;32mNone\u001b[0m\u001b[1;33m,\u001b[0m\u001b[1;33m\n",
       "\u001b[0m    \u001b[0mstart\u001b[0m\u001b[1;33m=\u001b[0m\u001b[1;32mNone\u001b[0m\u001b[1;33m,\u001b[0m\u001b[1;33m\n",
       "\u001b[0m    \u001b[0mend\u001b[0m\u001b[1;33m=\u001b[0m\u001b[1;32mNone\u001b[0m\u001b[1;33m,\u001b[0m\u001b[1;33m\n",
       "\u001b[0m    \u001b[0madjustments\u001b[0m\u001b[1;33m=\u001b[0m\u001b[1;33m[\u001b[0m\u001b[1;33m]\u001b[0m\u001b[1;33m,\u001b[0m\u001b[1;33m\n",
       "\u001b[0m    \u001b[0mcount\u001b[0m\u001b[1;33m=\u001b[0m\u001b[1;36m1\u001b[0m\u001b[1;33m,\u001b[0m\u001b[1;33m\n",
       "\u001b[0m    \u001b[0mfields\u001b[0m\u001b[1;33m=\u001b[0m\u001b[1;33m[\u001b[0m\u001b[1;33m]\u001b[0m\u001b[1;33m,\u001b[0m\u001b[1;33m\n",
       "\u001b[0m    \u001b[0mon_response\u001b[0m\u001b[1;33m=\u001b[0m\u001b[1;32mNone\u001b[0m\u001b[1;33m,\u001b[0m\u001b[1;33m\n",
       "\u001b[0m    \u001b[0mclosure\u001b[0m\u001b[1;33m=\u001b[0m\u001b[1;32mNone\u001b[0m\u001b[1;33m,\u001b[0m\u001b[1;33m\n",
       "\u001b[0m\u001b[1;33m)\u001b[0m\u001b[1;33m\u001b[0m\u001b[1;33m\u001b[0m\u001b[0m\n",
       "\u001b[1;31mDocstring:\u001b[0m <no docstring>\n",
       "\u001b[1;31mFile:\u001b[0m      c:\\drive_d\\compilers\\miniconda3\\envs\\rdp_notebook\\lib\\site-packages\\refinitiv\\dataplatform\\factory\\content_factory.py\n",
       "\u001b[1;31mType:\u001b[0m      function\n"
      ]
     },
     "metadata": {},
     "output_type": "display_data"
    }
   ],
   "source": [
    "rdp.get_historical_price_events?"
   ]
  },
  {
   "cell_type": "code",
   "execution_count": 9,
   "id": "green-bhutan",
   "metadata": {},
   "outputs": [],
   "source": [
    "# Request Historical Data of Tesla Inc.\n",
    "df_tesla = rdp.get_historical_price_events(universe = 'TSLA.O')"
   ]
  },
  {
   "cell_type": "markdown",
   "id": "finite-respect",
   "metadata": {},
   "source": [
    "Please note that all IPython helpers and autocompletion magic support all Python libraries in the Notebook environment, not limit to only RDP Libraries.\n",
    "\n",
    "![Figure-6](images/ipython_autocomple_4.gif \"Pandas DataFrame with IPython  Autocompletion\") "
   ]
  },
  {
   "cell_type": "code",
   "execution_count": 11,
   "id": "informed-ecuador",
   "metadata": {},
   "outputs": [
    {
     "data": {
      "text/plain": [
       "\u001b[1;31mSignature:\u001b[0m \u001b[0mdf_tesla\u001b[0m\u001b[1;33m.\u001b[0m\u001b[0mhead\u001b[0m\u001b[1;33m(\u001b[0m\u001b[0mn\u001b[0m\u001b[1;33m:\u001b[0m \u001b[1;34m'int'\u001b[0m \u001b[1;33m=\u001b[0m \u001b[1;36m5\u001b[0m\u001b[1;33m)\u001b[0m \u001b[1;33m->\u001b[0m \u001b[1;34m'FrameOrSeries'\u001b[0m\u001b[1;33m\u001b[0m\u001b[1;33m\u001b[0m\u001b[0m\n",
       "\u001b[1;31mDocstring:\u001b[0m\n",
       "Return the first `n` rows.\n",
       "\n",
       "This function returns the first `n` rows for the object based\n",
       "on position. It is useful for quickly testing if your object\n",
       "has the right type of data in it.\n",
       "\n",
       "For negative values of `n`, this function returns all rows except\n",
       "the last `n` rows, equivalent to ``df[:-n]``.\n",
       "\n",
       "Parameters\n",
       "----------\n",
       "n : int, default 5\n",
       "    Number of rows to select.\n",
       "\n",
       "Returns\n",
       "-------\n",
       "same type as caller\n",
       "    The first `n` rows of the caller object.\n",
       "\n",
       "See Also\n",
       "--------\n",
       "DataFrame.tail: Returns the last `n` rows.\n",
       "\n",
       "Examples\n",
       "--------\n",
       ">>> df = pd.DataFrame({'animal': ['alligator', 'bee', 'falcon', 'lion',\n",
       "...                    'monkey', 'parrot', 'shark', 'whale', 'zebra']})\n",
       ">>> df\n",
       "      animal\n",
       "0  alligator\n",
       "1        bee\n",
       "2     falcon\n",
       "3       lion\n",
       "4     monkey\n",
       "5     parrot\n",
       "6      shark\n",
       "7      whale\n",
       "8      zebra\n",
       "\n",
       "Viewing the first 5 lines\n",
       "\n",
       ">>> df.head()\n",
       "      animal\n",
       "0  alligator\n",
       "1        bee\n",
       "2     falcon\n",
       "3       lion\n",
       "4     monkey\n",
       "\n",
       "Viewing the first `n` lines (three in this case)\n",
       "\n",
       ">>> df.head(3)\n",
       "      animal\n",
       "0  alligator\n",
       "1        bee\n",
       "2     falcon\n",
       "\n",
       "For negative values of `n`\n",
       "\n",
       ">>> df.head(-3)\n",
       "      animal\n",
       "0  alligator\n",
       "1        bee\n",
       "2     falcon\n",
       "3       lion\n",
       "4     monkey\n",
       "5     parrot\n",
       "\u001b[1;31mFile:\u001b[0m      c:\\drive_d\\compilers\\miniconda3\\envs\\rdp_notebook\\lib\\site-packages\\pandas\\core\\generic.py\n",
       "\u001b[1;31mType:\u001b[0m      method\n"
      ]
     },
     "metadata": {},
     "output_type": "display_data"
    }
   ],
   "source": [
    "df_tesla.head?"
   ]
  },
  {
   "cell_type": "code",
   "execution_count": 12,
   "id": "heard-journalism",
   "metadata": {},
   "outputs": [
    {
     "data": {
      "text/html": [
       "<div>\n",
       "<style scoped>\n",
       "    .dataframe tbody tr th:only-of-type {\n",
       "        vertical-align: middle;\n",
       "    }\n",
       "\n",
       "    .dataframe tbody tr th {\n",
       "        vertical-align: top;\n",
       "    }\n",
       "\n",
       "    .dataframe thead th {\n",
       "        text-align: right;\n",
       "    }\n",
       "</style>\n",
       "<table border=\"1\" class=\"dataframe\">\n",
       "  <thead>\n",
       "    <tr style=\"text-align: right;\">\n",
       "      <th></th>\n",
       "      <th>EVENT_TYPE</th>\n",
       "      <th>RTL</th>\n",
       "      <th>SEQNUM</th>\n",
       "      <th>TRDXID_1</th>\n",
       "      <th>TRDPRC_1</th>\n",
       "      <th>TRDVOL_1</th>\n",
       "      <th>ACVOL_UNS</th>\n",
       "      <th>VWAP</th>\n",
       "      <th>BID</th>\n",
       "      <th>BIDSIZE</th>\n",
       "      <th>...</th>\n",
       "      <th>OPEN_PRC</th>\n",
       "      <th>HIGH_1</th>\n",
       "      <th>LOW_1</th>\n",
       "      <th>IMP_VOLT</th>\n",
       "      <th>BID_MMID1</th>\n",
       "      <th>ASK_MMID1</th>\n",
       "      <th>MID_PRICE</th>\n",
       "      <th>LIMIT_INDQ</th>\n",
       "      <th>SH_SAL_RES</th>\n",
       "      <th>QUALIFIERS</th>\n",
       "    </tr>\n",
       "  </thead>\n",
       "  <tbody>\n",
       "    <tr>\n",
       "      <th>2021-02-01 09:57:43.857</th>\n",
       "      <td>trade</td>\n",
       "      <td>34094</td>\n",
       "      <td>18202</td>\n",
       "      <td>NAS</td>\n",
       "      <td>816.0</td>\n",
       "      <td>1</td>\n",
       "      <td>79319</td>\n",
       "      <td>None</td>\n",
       "      <td>815.6</td>\n",
       "      <td>4900</td>\n",
       "      <td>...</td>\n",
       "      <td>None</td>\n",
       "      <td>None</td>\n",
       "      <td>None</td>\n",
       "      <td>None</td>\n",
       "      <td>&lt;NA&gt;</td>\n",
       "      <td>&lt;NA&gt;</td>\n",
       "      <td>None</td>\n",
       "      <td>&lt;NA&gt;</td>\n",
       "      <td>&lt;NA&gt;</td>\n",
       "      <td>@ TI[GV4_TEXT];ODT[IRGCOND]</td>\n",
       "    </tr>\n",
       "    <tr>\n",
       "      <th>2021-02-01 09:57:43.857</th>\n",
       "      <td>trade</td>\n",
       "      <td>34110</td>\n",
       "      <td>18203</td>\n",
       "      <td>NAS</td>\n",
       "      <td>816.0</td>\n",
       "      <td>1</td>\n",
       "      <td>79320</td>\n",
       "      <td>None</td>\n",
       "      <td>815.6</td>\n",
       "      <td>4900</td>\n",
       "      <td>...</td>\n",
       "      <td>None</td>\n",
       "      <td>None</td>\n",
       "      <td>None</td>\n",
       "      <td>None</td>\n",
       "      <td>&lt;NA&gt;</td>\n",
       "      <td>&lt;NA&gt;</td>\n",
       "      <td>None</td>\n",
       "      <td>&lt;NA&gt;</td>\n",
       "      <td>&lt;NA&gt;</td>\n",
       "      <td>@ TI[GV4_TEXT];ODT[IRGCOND]</td>\n",
       "    </tr>\n",
       "    <tr>\n",
       "      <th>2021-02-01 09:57:49.039</th>\n",
       "      <td>trade</td>\n",
       "      <td>34142</td>\n",
       "      <td>18212</td>\n",
       "      <td>NAS</td>\n",
       "      <td>816.0</td>\n",
       "      <td>3</td>\n",
       "      <td>79323</td>\n",
       "      <td>None</td>\n",
       "      <td>815.6</td>\n",
       "      <td>4900</td>\n",
       "      <td>...</td>\n",
       "      <td>None</td>\n",
       "      <td>None</td>\n",
       "      <td>None</td>\n",
       "      <td>None</td>\n",
       "      <td>&lt;NA&gt;</td>\n",
       "      <td>&lt;NA&gt;</td>\n",
       "      <td>None</td>\n",
       "      <td>&lt;NA&gt;</td>\n",
       "      <td>&lt;NA&gt;</td>\n",
       "      <td>@FTI[GV4_TEXT];   [IRGCOND];X[GV3_TEXT]</td>\n",
       "    </tr>\n",
       "  </tbody>\n",
       "</table>\n",
       "<p>3 rows × 31 columns</p>\n",
       "</div>"
      ],
      "text/plain": [
       "                        EVENT_TYPE    RTL SEQNUM TRDXID_1  TRDPRC_1  TRDVOL_1  \\\n",
       "2021-02-01 09:57:43.857      trade  34094  18202      NAS     816.0         1   \n",
       "2021-02-01 09:57:43.857      trade  34110  18203      NAS     816.0         1   \n",
       "2021-02-01 09:57:49.039      trade  34142  18212      NAS     816.0         3   \n",
       "\n",
       "                         ACVOL_UNS  VWAP    BID  BIDSIZE  ...  OPEN_PRC  \\\n",
       "2021-02-01 09:57:43.857      79319  None  815.6     4900  ...      None   \n",
       "2021-02-01 09:57:43.857      79320  None  815.6     4900  ...      None   \n",
       "2021-02-01 09:57:49.039      79323  None  815.6     4900  ...      None   \n",
       "\n",
       "                         HIGH_1 LOW_1 IMP_VOLT BID_MMID1 ASK_MMID1 MID_PRICE  \\\n",
       "2021-02-01 09:57:43.857    None  None     None      <NA>      <NA>      None   \n",
       "2021-02-01 09:57:43.857    None  None     None      <NA>      <NA>      None   \n",
       "2021-02-01 09:57:49.039    None  None     None      <NA>      <NA>      None   \n",
       "\n",
       "                        LIMIT_INDQ SH_SAL_RES  \\\n",
       "2021-02-01 09:57:43.857       <NA>       <NA>   \n",
       "2021-02-01 09:57:43.857       <NA>       <NA>   \n",
       "2021-02-01 09:57:49.039       <NA>       <NA>   \n",
       "\n",
       "                                                      QUALIFIERS  \n",
       "2021-02-01 09:57:43.857              @ TI[GV4_TEXT];ODT[IRGCOND]  \n",
       "2021-02-01 09:57:43.857              @ TI[GV4_TEXT];ODT[IRGCOND]  \n",
       "2021-02-01 09:57:49.039  @FTI[GV4_TEXT];   [IRGCOND];X[GV3_TEXT]  \n",
       "\n",
       "[3 rows x 31 columns]"
      ]
     },
     "execution_count": 12,
     "metadata": {},
     "output_type": "execute_result"
    }
   ],
   "source": [
    "df_tesla.head(3)"
   ]
  },
  {
   "cell_type": "markdown",
   "id": "indoor-spanish",
   "metadata": {},
   "source": [
    "### Close RDP Session"
   ]
  },
  {
   "cell_type": "code",
   "execution_count": 13,
   "id": "forward-spine",
   "metadata": {},
   "outputs": [
    {
     "name": "stdout",
     "output_type": "stream",
     "text": [
      "State.Closed\n"
     ]
    }
   ],
   "source": [
    "# -- Close Session, just calls close_session() function\n",
    "\n",
    "rdp.close_session()\n",
    "\n",
    "print(session.get_open_state())"
   ]
  },
  {
   "cell_type": "markdown",
   "id": "shared-monkey",
   "metadata": {},
   "source": [
    "## Refinitiv Workspace CodeBook\n",
    "\n",
    "If you are [Refinitiv Workspace](https://www.refinitiv.com/en/products/refinitiv-workspace) or [Eikon](https://www.refinitiv.com/en/products/eikon-trading-software) user, you can access [*CodeBook*](https://www.refinitiv.com/en/products/codebook), the cloud-hosted Jupyter Notebook development environment for Python scripting from the application. The CodeBook is natively available in Refinitiv Workspace and Eikon as an app (**no installation required!!**), providing access to Refinitiv APIs that are already pre-installed on the cloud.\n",
    "\n",
    "One benefit of using the CodeBook app is the environment has already enabled Jupyter Notebook magics for you. You can use all code autocompletion shortcuts (```tab```, ```shift + tab```, and ```?```) without setting any IPython Magic in your Notebook.\n",
    "\n",
    "![Figure-6](images/ipython_autocomple_codebook.gif \"CodeBook Autocompletion\") \n",
    "\n",
    "Please see more detail regarding the CodeBook app in this [Use Eikon Data API or RDP Library in Python in CodeBook on Web Browser article](https://developers.refinitiv.com/en/article-catalog/article/use-eikon-data-api-or-rdp-library-python-codebook-web-browser)."
   ]
  },
  {
   "cell_type": "markdown",
   "id": "dressed-model",
   "metadata": {},
   "source": [
    "## Conclusion and Next Step\n",
    "\n",
    "Some Professional Developers may think Jupyter Notebook (and JupyterLab) is just a learning tool for Casual Developers like Data Scientists. However, the tool provides enough coding/development features for a wide range of Developers. The IPython Code Autocompletion feature (and other Magics) helps developers implement the code logic and navigate through the libraries/APIs in the same experience as the traditional IDEs. \n",
    "\n",
    "There is some new development project that tries to merge the benefits/features of the traditional IDEs and Jupyter Notebook like [Netflix's Polynote](https://polynote.org/). While the JupyterLab also keeps evolving to make a better development environment and easier to use.\n",
    "\n",
    "At the same time, the [Refinitiv Data Platform (RDP) Libraries](https://developers.refinitiv.com/refinitiv-data-platform/refinitiv-data-platform-libraries) let developers rapidly access Refinitiv Platform content with a few lines of code that easy to understand and maintain. Developers can focus on implement the business logic or analysis data without worry about the connection, authentication detail with the Refinitiv Platforms.\n",
    "\n"
   ]
  },
  {
   "cell_type": "markdown",
   "id": "stretch-funds",
   "metadata": {},
   "source": [
    "## References\n",
    "\n",
    "You can find more details regarding the Refinitiv Data Platform Libraries and Jupyter Notebook from the following resources:\n",
    "* [Refinitiv Data Platform (RDP) Libraries](https://developers.refinitiv.com/en/api-catalog/refinitiv-data-platform/refinitiv-data-platform-libraries) on the [Refinitiv Developer Community](https://developers.refinitiv.com/) web site.\n",
    "* [Jupyter Project Official page](https://jupyter.org/).\n",
    "* [Jupyter Notebook Shortcuts](https://towardsdatascience.com/jypyter-notebook-shortcuts-bf0101a98330).\n",
    "* [IPython Built-in magic commands](https://ipython.readthedocs.io/en/stable/interactive/magics.html).\n",
    "* [Jupyter Notebook: An Introduction](https://realpython.com/jupyter-notebook-introduction/).\n",
    "* [Jupyter Lab: Evolution of the Jupyter Notebook](https://towardsdatascience.com/jupyter-lab-evolution-of-the-jupyter-notebook-5297cacde6b).\n",
    "* [10 Compelling Reasons you Should Use JupyterLab for Data Science Coding](https://www.analyticsvidhya.com/blog/2020/06/10-powerful-reasons-jupyterlab-data-science/).\n",
    "* [RDP Libraries Quick Start Guide page](https://developers.refinitiv.com/en/api-catalog/refinitiv-data-platform/refinitiv-data-platform-libraries/quick-start).\n",
    "* [RDP Libraries Tutorial page](https://developers.refinitiv.com/en/api-catalog/refinitiv-data-platform/refinitiv-data-platform-libraries/tutorials).\n",
    "* [Discover our Refinitiv Data Platform Library (part 1)](https://developers.refinitiv.com/en/article-catalog/article/discover-our-refinitiv-data-platform-library-part-1).\n",
    "* [Discover our Refinitiv Data Platform Library (part 2)](https://developers.refinitiv.com/en/article-catalog/article/discover-our-refinitiv-data-platform-library-part-2).\n",
    "\n",
    "For any questions related to this article or Refinitiv Data Platform Libraries, please use the Developers Community [Q&A Forum](https://community.developers.refinitiv.com/spaces/321/refinitiv-data-platform-libraries.html)."
   ]
  },
  {
   "cell_type": "code",
   "execution_count": null,
   "id": "cheap-portugal",
   "metadata": {},
   "outputs": [],
   "source": []
  }
 ],
 "metadata": {
  "kernelspec": {
   "display_name": "Python 3",
   "language": "python",
   "name": "python3"
  },
  "language_info": {
   "codemirror_mode": {
    "name": "ipython",
    "version": 3
   },
   "file_extension": ".py",
   "mimetype": "text/x-python",
   "name": "python",
   "nbconvert_exporter": "python",
   "pygments_lexer": "ipython3",
   "version": "3.7.9"
  }
 },
 "nbformat": 4,
 "nbformat_minor": 5
}
